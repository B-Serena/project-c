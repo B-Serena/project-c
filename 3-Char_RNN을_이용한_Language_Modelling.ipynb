{
  "cells": [
    {
      "cell_type": "markdown",
      "metadata": {
        "id": "-S5Q0Ja1qlxM"
      },
      "source": [
        "# 필요한 라이브러리 import\n"
      ]
    },
    {
      "cell_type": "code",
      "execution_count": 1,
      "metadata": {
        "id": "pz192HxKqlSK"
      },
      "outputs": [],
      "source": [
        "from __future__ import absolute_import, division, print_function, unicode_literals\n",
        "\n",
        "import tensorflow as tf\n",
        "\n",
        "import numpy as np\n",
        "import os\n",
        "import time "
      ]
    },
    {
      "cell_type": "markdown",
      "metadata": {
        "id": "40vlolhCqqdv"
      },
      "source": [
        "# 유틸리티 함수 정의"
      ]
    },
    {
      "cell_type": "code",
      "execution_count": 2,
      "metadata": {
        "id": "RbQifXuxqs5d"
      },
      "outputs": [],
      "source": [
        "# input 데이터와 input 데이터를 한글자씩 뒤로 민 target 데이터를 생성하는 utility 함수를 정의합니다.\n",
        "def split_input_target(chunk):\n",
        "  input_text = chunk[:-1]\n",
        "  target_text = chunk[1:]\n",
        "\n",
        "  return input_text, target_text"
      ]
    },
    {
      "cell_type": "markdown",
      "metadata": {
        "id": "UrJBc9ujquQ4"
      },
      "source": [
        "# 설정값 지정"
      ]
    },
    {
      "cell_type": "code",
      "execution_count": 3,
      "metadata": {
        "colab": {
          "base_uri": "https://localhost:8080/"
        },
        "id": "Ap0uWvq9qvkH",
        "outputId": "9dcb8c27-159b-4c16-c432-bc9e77ae76cf"
      },
      "outputs": [],
      "source": [
        "ß# 학습에 필요한 설정값들을 지정합니다.\n",
        "#data_dir = tf.keras.utils.get_file('shakespeare.txt', 'https://storage.googleapis.com/download.tensorflow.org/data/shakespeare.txt')  # shakespeare\n",
        "data_dir = tf.keras.utils.get_file('linux.txt', 'https://raw.githubusercontent.com/solaris33/deep-learning-tensorflow-book-code/master/Ch08-RNN/Char-RNN/data/linux/input.txt')  # linux\n",
        "batch_size = 64      # Training : 64, Sampling : 1 ##### 64 배치\n",
        "seq_length = 100     # Training : 100, Sampling : 1 ##### 100글자씩 묶음\n",
        "embedding_dim = 256  # Embedding 차원\n",
        "hidden_size = 1024   # 히든 레이어의 노드 개수\n",
        "num_epochs = 10"
      ]
    },
    {
      "cell_type": "markdown",
      "metadata": {
        "id": "2vGb_BMhqy8m"
      },
      "source": [
        "# 어휘 집합(Vocabulary set) 설정"
      ]
    },
    {
      "cell_type": "code",
      "execution_count": null,
      "metadata": {},
      "outputs": [],
      "source": []
    },
    {
      "cell_type": "code",
      "execution_count": 4,
      "metadata": {
        "colab": {
          "base_uri": "https://localhost:8080/"
        },
        "id": "QEgzFH5Bq2AJ",
        "outputId": "86b6f674-29b8-4676-bee3-5dac15608e76"
      },
      "outputs": [
        {
          "name": "stdout",
          "output_type": "stream",
          "text": [
            "99 unique characters\n"
          ]
        }
      ],
      "source": [
        "# 학습에 사용할 txt 파일을 읽습니다.\n",
        "text = open(data_dir, 'rb').read().decode(encoding='utf-8')\n",
        "# 학습데이터에 포함된 모든 character들을 나타내는 변수인 vocab과\n",
        "# vocab에 id를 부여해 dict 형태로 만든 char2idx를 선언합니다.\n",
        "vocab = sorted(set(text))  # 유니크한 character 개수\n",
        "vocab_size = len(vocab)\n",
        "print('{} unique characters'.format(vocab_size))\n",
        "char2idx = {u: i for i, u in enumerate(vocab)}\n",
        "idx2char = np.array(vocab)"
      ]
    },
    {
      "cell_type": "code",
      "execution_count": 5,
      "metadata": {},
      "outputs": [
        {
          "data": {
            "text/plain": [
              "['\\t',\n",
              " '\\n',\n",
              " ' ',\n",
              " '!',\n",
              " '\"',\n",
              " '#',\n",
              " '$',\n",
              " '%',\n",
              " '&',\n",
              " \"'\",\n",
              " '(',\n",
              " ')',\n",
              " '*',\n",
              " '+',\n",
              " ',',\n",
              " '-',\n",
              " '.',\n",
              " '/',\n",
              " '0',\n",
              " '1',\n",
              " '2',\n",
              " '3',\n",
              " '4',\n",
              " '5',\n",
              " '6',\n",
              " '7',\n",
              " '8',\n",
              " '9',\n",
              " ':',\n",
              " ';',\n",
              " '<',\n",
              " '=',\n",
              " '>',\n",
              " '?',\n",
              " '@',\n",
              " 'A',\n",
              " 'B',\n",
              " 'C',\n",
              " 'D',\n",
              " 'E',\n",
              " 'F',\n",
              " 'G',\n",
              " 'H',\n",
              " 'I',\n",
              " 'J',\n",
              " 'K',\n",
              " 'L',\n",
              " 'M',\n",
              " 'N',\n",
              " 'O',\n",
              " 'P',\n",
              " 'Q',\n",
              " 'R',\n",
              " 'S',\n",
              " 'T',\n",
              " 'U',\n",
              " 'V',\n",
              " 'W',\n",
              " 'X',\n",
              " 'Y',\n",
              " 'Z',\n",
              " '[',\n",
              " '\\\\',\n",
              " ']',\n",
              " '^',\n",
              " '_',\n",
              " '`',\n",
              " 'a',\n",
              " 'b',\n",
              " 'c',\n",
              " 'd',\n",
              " 'e',\n",
              " 'f',\n",
              " 'g',\n",
              " 'h',\n",
              " 'i',\n",
              " 'j',\n",
              " 'k',\n",
              " 'l',\n",
              " 'm',\n",
              " 'n',\n",
              " 'o',\n",
              " 'p',\n",
              " 'q',\n",
              " 'r',\n",
              " 's',\n",
              " 't',\n",
              " 'u',\n",
              " 'v',\n",
              " 'w',\n",
              " 'x',\n",
              " 'y',\n",
              " 'z',\n",
              " '{',\n",
              " '|',\n",
              " '}',\n",
              " '~',\n",
              " '©',\n",
              " 'å']"
            ]
          },
          "execution_count": 5,
          "metadata": {},
          "output_type": "execute_result"
        }
      ],
      "source": [
        "vocab"
      ]
    },
    {
      "cell_type": "code",
      "execution_count": 6,
      "metadata": {},
      "outputs": [
        {
          "data": {
            "text/plain": [
              "{'\\t': 0,\n",
              " '\\n': 1,\n",
              " ' ': 2,\n",
              " '!': 3,\n",
              " '\"': 4,\n",
              " '#': 5,\n",
              " '$': 6,\n",
              " '%': 7,\n",
              " '&': 8,\n",
              " \"'\": 9,\n",
              " '(': 10,\n",
              " ')': 11,\n",
              " '*': 12,\n",
              " '+': 13,\n",
              " ',': 14,\n",
              " '-': 15,\n",
              " '.': 16,\n",
              " '/': 17,\n",
              " '0': 18,\n",
              " '1': 19,\n",
              " '2': 20,\n",
              " '3': 21,\n",
              " '4': 22,\n",
              " '5': 23,\n",
              " '6': 24,\n",
              " '7': 25,\n",
              " '8': 26,\n",
              " '9': 27,\n",
              " ':': 28,\n",
              " ';': 29,\n",
              " '<': 30,\n",
              " '=': 31,\n",
              " '>': 32,\n",
              " '?': 33,\n",
              " '@': 34,\n",
              " 'A': 35,\n",
              " 'B': 36,\n",
              " 'C': 37,\n",
              " 'D': 38,\n",
              " 'E': 39,\n",
              " 'F': 40,\n",
              " 'G': 41,\n",
              " 'H': 42,\n",
              " 'I': 43,\n",
              " 'J': 44,\n",
              " 'K': 45,\n",
              " 'L': 46,\n",
              " 'M': 47,\n",
              " 'N': 48,\n",
              " 'O': 49,\n",
              " 'P': 50,\n",
              " 'Q': 51,\n",
              " 'R': 52,\n",
              " 'S': 53,\n",
              " 'T': 54,\n",
              " 'U': 55,\n",
              " 'V': 56,\n",
              " 'W': 57,\n",
              " 'X': 58,\n",
              " 'Y': 59,\n",
              " 'Z': 60,\n",
              " '[': 61,\n",
              " '\\\\': 62,\n",
              " ']': 63,\n",
              " '^': 64,\n",
              " '_': 65,\n",
              " '`': 66,\n",
              " 'a': 67,\n",
              " 'b': 68,\n",
              " 'c': 69,\n",
              " 'd': 70,\n",
              " 'e': 71,\n",
              " 'f': 72,\n",
              " 'g': 73,\n",
              " 'h': 74,\n",
              " 'i': 75,\n",
              " 'j': 76,\n",
              " 'k': 77,\n",
              " 'l': 78,\n",
              " 'm': 79,\n",
              " 'n': 80,\n",
              " 'o': 81,\n",
              " 'p': 82,\n",
              " 'q': 83,\n",
              " 'r': 84,\n",
              " 's': 85,\n",
              " 't': 86,\n",
              " 'u': 87,\n",
              " 'v': 88,\n",
              " 'w': 89,\n",
              " 'x': 90,\n",
              " 'y': 91,\n",
              " 'z': 92,\n",
              " '{': 93,\n",
              " '|': 94,\n",
              " '}': 95,\n",
              " '~': 96,\n",
              " '©': 97,\n",
              " 'å': 98}"
            ]
          },
          "execution_count": 6,
          "metadata": {},
          "output_type": "execute_result"
        }
      ],
      "source": [
        "char2idx"
      ]
    },
    {
      "cell_type": "code",
      "execution_count": 7,
      "metadata": {},
      "outputs": [
        {
          "data": {
            "text/plain": [
              "array(['\\t', '\\n', ' ', '!', '\"', '#', '$', '%', '&', \"'\", '(', ')', '*',\n",
              "       '+', ',', '-', '.', '/', '0', '1', '2', '3', '4', '5', '6', '7',\n",
              "       '8', '9', ':', ';', '<', '=', '>', '?', '@', 'A', 'B', 'C', 'D',\n",
              "       'E', 'F', 'G', 'H', 'I', 'J', 'K', 'L', 'M', 'N', 'O', 'P', 'Q',\n",
              "       'R', 'S', 'T', 'U', 'V', 'W', 'X', 'Y', 'Z', '[', '\\\\', ']', '^',\n",
              "       '_', '`', 'a', 'b', 'c', 'd', 'e', 'f', 'g', 'h', 'i', 'j', 'k',\n",
              "       'l', 'm', 'n', 'o', 'p', 'q', 'r', 's', 't', 'u', 'v', 'w', 'x',\n",
              "       'y', 'z', '{', '|', '}', '~', '©', 'å'], dtype='<U1')"
            ]
          },
          "execution_count": 7,
          "metadata": {},
          "output_type": "execute_result"
        }
      ],
      "source": [
        "idx2char"
      ]
    },
    {
      "cell_type": "code",
      "execution_count": null,
      "metadata": {},
      "outputs": [],
      "source": []
    },
    {
      "cell_type": "markdown",
      "metadata": {
        "id": "qMkdoIeAq5DJ"
      },
      "source": [
        "# Dataset 설정"
      ]
    },
    {
      "cell_type": "code",
      "execution_count": 8,
      "metadata": {
        "id": "N57em_CFrAwG"
      },
      "outputs": [],
      "source": [
        "# 학습 데이터를 character에서 integer로 변환합니다.\n",
        "text_as_int = np.array([char2idx[c] for c in text])\n",
        "\n",
        "# split_input_target 함수를 이용해서 input 데이터와 input 데이터를 한글자씩 뒤로 민 target 데이터를 생성합니다.\n",
        "char_dataset = tf.data.Dataset.from_tensor_slices(text_as_int)\n",
        "sequences = char_dataset.batch(seq_length+1, drop_remainder=True)\n",
        "dataset = sequences.map(split_input_target)\n",
        "\n",
        "# tf.data API를 이용해서 데이터를 섞고 batch 형태로 가져옵니다.\n",
        "dataset = dataset.shuffle(10000).batch(batch_size, drop_remainder=True)"
      ]
    },
    {
      "cell_type": "markdown",
      "metadata": {
        "id": "XGraOEVirC1w"
      },
      "source": [
        "# RNN 모델 설정"
      ]
    },
    {
      "cell_type": "code",
      "execution_count": 9,
      "metadata": {
        "id": "MgUcylhQrFgX"
      },
      "outputs": [],
      "source": [
        "# tf.keras.Model을 이용해서 RNN 모델을 정의합니다.\n",
        "class RNN(tf.keras.Model):\n",
        " def __init__(self, batch_size):\n",
        "   super(RNN, self).__init__()\n",
        "   self.embedding_layer = tf.keras.layers.Embedding(vocab_size, embedding_dim, \n",
        "                                                    batch_input_shape=[batch_size, None])\n",
        "   self.hidden_layer_1 = tf.keras.layers.LSTM(hidden_size,\n",
        "                                             return_sequences=True,\n",
        "                                             stateful=True,\n",
        "                                             recurrent_initializer='glorot_uniform')\n",
        "   self.output_layer = tf.keras.layers.Dense(vocab_size)\n",
        "\n",
        " def call(self, x):\n",
        "   embedded_input = self.embedding_layer(x)\n",
        "   features = self.hidden_layer_1(embedded_input)\n",
        "   logits = self.output_layer(features)\n",
        "\n",
        "   return logits\n",
        " \n",
        "\n",
        "# vocab size 99 dimension (one-hot encoding 된 벡터)를 256 임베딩으로 맞춰줌\n",
        "# 일반적으로는 vocab size가 임베딩보다 훨씬 큼\n",
        "# 이 경우는 char 단위로 하다보니 embedding dim 이 더 큼\n",
        "# 다음 one-hot encoding된 char 에 대한 softmax regression 값을 call 함수에서 output으로 내줌\n",
        "\n"
      ]
    },
    {
      "cell_type": "code",
      "execution_count": null,
      "metadata": {},
      "outputs": [],
      "source": []
    },
    {
      "cell_type": "markdown",
      "metadata": {
        "id": "hdZlqa1SrGjL"
      },
      "source": [
        "# Loss Function 정의"
      ]
    },
    {
      "cell_type": "code",
      "execution_count": 10,
      "metadata": {
        "id": "pzTsknETrJQC"
      },
      "outputs": [],
      "source": [
        "# sparse cross-entropy 손실 함수를 정의합니다.\n",
        "def sparse_cross_entropy_loss(labels, logits):\n",
        "  return tf.reduce_mean(tf.keras.losses.sparse_categorical_crossentropy(labels, logits, from_logits=True))"
      ]
    },
    {
      "cell_type": "markdown",
      "metadata": {
        "id": "s7_1vbG0rMW9"
      },
      "source": [
        "# 옵티마이저 및 학습 설정"
      ]
    },
    {
      "cell_type": "code",
      "execution_count": 11,
      "metadata": {
        "id": "4DMYAASYrOQi"
      },
      "outputs": [],
      "source": [
        "# 최적화를 위한 Adam 옵티마이저를 정의합니다.\n",
        "optimizer = tf.keras.optimizers.Adam()\n",
        "\n",
        "# 최적화를 위한 function을 정의합니다.\n",
        "@tf.function\n",
        "def train_step(model, input, target):\n",
        "  with tf.GradientTape() as tape:\n",
        "    logits = model(input)\n",
        "    loss = sparse_cross_entropy_loss(target, logits)\n",
        "  grads = tape.gradient(loss, model.trainable_variables)\n",
        "  optimizer.apply_gradients(zip(grads, model.trainable_variables))\n",
        "\n",
        "  return loss"
      ]
    },
    {
      "cell_type": "markdown",
      "metadata": {
        "id": "c3E2PRvnrSeP"
      },
      "source": [
        "# 샘플링 함수 설정"
      ]
    },
    {
      "cell_type": "code",
      "execution_count": 12,
      "metadata": {
        "id": "MgeX0b6HrRyA"
      },
      "outputs": [],
      "source": [
        "def generate_text(model, start_string):\n",
        "  num_sampling = 4000  # 생성할 글자(Character)의 개수를 지정합니다.\n",
        "\n",
        "  # start_sting을 integer 형태로 변환합니다.\n",
        "  input_eval = [char2idx[s] for s in start_string]\n",
        "  input_eval = tf.expand_dims(input_eval, 0)\n",
        "\n",
        "  # 샘플링 결과로 생성된 string을 저장할 배열을 초기화합니다.\n",
        "  text_generated = []\n",
        "\n",
        "  # 낮은 temperature 값은 더욱 정확한 텍스트를 생성합니다.\n",
        "  # 높은 temperature 값은 더욱 다양한 텍스트를 생성합니다.\n",
        "  ##### Temp 가 높을수록 편차가 높아짐 (argmax와 비슷하게 되는 경향), 정확성 오르고 다양상은 떨어짐\n",
        "  temperature = 1.0\n",
        "\n",
        "  # 여기서 batch size = 1 입니다.\n",
        "  model.reset_states()\n",
        "  for i in range(num_sampling):\n",
        "    predictions = model(input_eval)\n",
        "    # 불필요한 batch dimension을 삭제합니다.\n",
        "    predictions = tf.squeeze(predictions, 0)\n",
        "\n",
        "    # 모델의 예측결과에 기반해서 랜덤 샘플링을 하기위해 categorical distribution을 사용합니다.\n",
        "    predictions = predictions / temperature\n",
        "    predicted_id = tf.random.categorical(predictions, num_samples=1)[-1,0].numpy()\n",
        "\n",
        "    # 예측된 character를 다음 input으로 사용합니다.\n",
        "    input_eval = tf.expand_dims([predicted_id], 0)\n",
        "    # 샘플링 결과를 text_generated 배열에 추가합니다.\n",
        "    text_generated.append(idx2char[predicted_id])\n",
        "\n",
        "  return (start_string + ''.join(text_generated))"
      ]
    },
    {
      "cell_type": "markdown",
      "metadata": {
        "id": "2krRKnbvr00T"
      },
      "source": [
        "# 트레이닝 시작"
      ]
    },
    {
      "cell_type": "code",
      "execution_count": 13,
      "metadata": {
        "colab": {
          "base_uri": "https://localhost:8080/"
        },
        "id": "xYxCGdZvoYHP",
        "outputId": "d5a5d531-eb1b-4126-d0f3-3105321a6a4c"
      },
      "outputs": [
        {
          "ename": "ValueError",
          "evalue": "Unrecognized keyword arguments passed to Embedding: {'batch_input_shape': [64, None]}",
          "output_type": "error",
          "traceback": [
            "\u001b[0;31m---------------------------------------------------------------------------\u001b[0m",
            "\u001b[0;31mValueError\u001b[0m                                Traceback (most recent call last)",
            "Cell \u001b[0;32mIn[13], line 2\u001b[0m\n\u001b[1;32m      1\u001b[0m \u001b[38;5;66;03m# Recurrent Neural Networks(RNN) 모델을 선언합니다.\u001b[39;00m\n\u001b[0;32m----> 2\u001b[0m RNN_model \u001b[38;5;241m=\u001b[39m \u001b[43mRNN\u001b[49m\u001b[43m(\u001b[49m\u001b[43mbatch_size\u001b[49m\u001b[38;5;241;43m=\u001b[39;49m\u001b[43mbatch_size\u001b[49m\u001b[43m)\u001b[49m\n\u001b[1;32m      4\u001b[0m \u001b[38;5;66;03m# 데이터 구조 파악을 위해서 예제로 임의의 하나의 배치 데이터 에측하고, 예측결과를 출력합니다.\u001b[39;00m\n\u001b[1;32m      5\u001b[0m \u001b[38;5;28;01mfor\u001b[39;00m input_example_batch, target_example_batch \u001b[38;5;129;01min\u001b[39;00m dataset\u001b[38;5;241m.\u001b[39mtake(\u001b[38;5;241m1\u001b[39m):\n",
            "Cell \u001b[0;32mIn[9], line 5\u001b[0m, in \u001b[0;36mRNN.__init__\u001b[0;34m(self, batch_size)\u001b[0m\n\u001b[1;32m      3\u001b[0m \u001b[38;5;28;01mdef\u001b[39;00m \u001b[38;5;21m__init__\u001b[39m(\u001b[38;5;28mself\u001b[39m, batch_size):\n\u001b[1;32m      4\u001b[0m   \u001b[38;5;28msuper\u001b[39m(RNN, \u001b[38;5;28mself\u001b[39m)\u001b[38;5;241m.\u001b[39m\u001b[38;5;21m__init__\u001b[39m()\n\u001b[0;32m----> 5\u001b[0m   \u001b[38;5;28mself\u001b[39m\u001b[38;5;241m.\u001b[39membedding_layer \u001b[38;5;241m=\u001b[39m \u001b[43mtf\u001b[49m\u001b[38;5;241;43m.\u001b[39;49m\u001b[43mkeras\u001b[49m\u001b[38;5;241;43m.\u001b[39;49m\u001b[43mlayers\u001b[49m\u001b[38;5;241;43m.\u001b[39;49m\u001b[43mEmbedding\u001b[49m\u001b[43m(\u001b[49m\u001b[43mvocab_size\u001b[49m\u001b[43m,\u001b[49m\u001b[43m \u001b[49m\u001b[43membedding_dim\u001b[49m\u001b[43m,\u001b[49m\u001b[43m \u001b[49m\n\u001b[1;32m      6\u001b[0m \u001b[43m                                                   \u001b[49m\u001b[43mbatch_input_shape\u001b[49m\u001b[38;5;241;43m=\u001b[39;49m\u001b[43m[\u001b[49m\u001b[43mbatch_size\u001b[49m\u001b[43m,\u001b[49m\u001b[43m \u001b[49m\u001b[38;5;28;43;01mNone\u001b[39;49;00m\u001b[43m]\u001b[49m\u001b[43m)\u001b[49m\n\u001b[1;32m      7\u001b[0m   \u001b[38;5;28mself\u001b[39m\u001b[38;5;241m.\u001b[39mhidden_layer_1 \u001b[38;5;241m=\u001b[39m tf\u001b[38;5;241m.\u001b[39mkeras\u001b[38;5;241m.\u001b[39mlayers\u001b[38;5;241m.\u001b[39mLSTM(hidden_size,\n\u001b[1;32m      8\u001b[0m                                             return_sequences\u001b[38;5;241m=\u001b[39m\u001b[38;5;28;01mTrue\u001b[39;00m,\n\u001b[1;32m      9\u001b[0m                                             stateful\u001b[38;5;241m=\u001b[39m\u001b[38;5;28;01mTrue\u001b[39;00m,\n\u001b[1;32m     10\u001b[0m                                             recurrent_initializer\u001b[38;5;241m=\u001b[39m\u001b[38;5;124m'\u001b[39m\u001b[38;5;124mglorot_uniform\u001b[39m\u001b[38;5;124m'\u001b[39m)\n\u001b[1;32m     11\u001b[0m   \u001b[38;5;28mself\u001b[39m\u001b[38;5;241m.\u001b[39moutput_layer \u001b[38;5;241m=\u001b[39m tf\u001b[38;5;241m.\u001b[39mkeras\u001b[38;5;241m.\u001b[39mlayers\u001b[38;5;241m.\u001b[39mDense(vocab_size)\n",
            "File \u001b[0;32m/opt/homebrew/Caskroom/miniforge/base/envs/toy-pjt-c/lib/python3.10/site-packages/keras/src/layers/core/embedding.py:93\u001b[0m, in \u001b[0;36mEmbedding.__init__\u001b[0;34m(self, input_dim, output_dim, embeddings_initializer, embeddings_regularizer, embeddings_constraint, mask_zero, weights, lora_rank, **kwargs)\u001b[0m\n\u001b[1;32m     89\u001b[0m \u001b[38;5;28;01mif\u001b[39;00m input_length \u001b[38;5;129;01mis\u001b[39;00m \u001b[38;5;129;01mnot\u001b[39;00m \u001b[38;5;28;01mNone\u001b[39;00m:\n\u001b[1;32m     90\u001b[0m     warnings\u001b[38;5;241m.\u001b[39mwarn(\n\u001b[1;32m     91\u001b[0m         \u001b[38;5;124m\"\u001b[39m\u001b[38;5;124mArgument `input_length` is deprecated. Just remove it.\u001b[39m\u001b[38;5;124m\"\u001b[39m\n\u001b[1;32m     92\u001b[0m     )\n\u001b[0;32m---> 93\u001b[0m \u001b[38;5;28;43msuper\u001b[39;49m\u001b[43m(\u001b[49m\u001b[43m)\u001b[49m\u001b[38;5;241;43m.\u001b[39;49m\u001b[38;5;21;43m__init__\u001b[39;49m\u001b[43m(\u001b[49m\u001b[38;5;241;43m*\u001b[39;49m\u001b[38;5;241;43m*\u001b[39;49m\u001b[43mkwargs\u001b[49m\u001b[43m)\u001b[49m\n\u001b[1;32m     94\u001b[0m \u001b[38;5;28mself\u001b[39m\u001b[38;5;241m.\u001b[39minput_dim \u001b[38;5;241m=\u001b[39m input_dim\n\u001b[1;32m     95\u001b[0m \u001b[38;5;28mself\u001b[39m\u001b[38;5;241m.\u001b[39moutput_dim \u001b[38;5;241m=\u001b[39m output_dim\n",
            "File \u001b[0;32m/opt/homebrew/Caskroom/miniforge/base/envs/toy-pjt-c/lib/python3.10/site-packages/keras/src/layers/layer.py:285\u001b[0m, in \u001b[0;36mLayer.__init__\u001b[0;34m(self, activity_regularizer, trainable, dtype, autocast, name, **kwargs)\u001b[0m\n\u001b[1;32m    283\u001b[0m     \u001b[38;5;28mself\u001b[39m\u001b[38;5;241m.\u001b[39m_input_shape_arg \u001b[38;5;241m=\u001b[39m input_shape_arg\n\u001b[1;32m    284\u001b[0m \u001b[38;5;28;01mif\u001b[39;00m kwargs:\n\u001b[0;32m--> 285\u001b[0m     \u001b[38;5;28;01mraise\u001b[39;00m \u001b[38;5;167;01mValueError\u001b[39;00m(\n\u001b[1;32m    286\u001b[0m         \u001b[38;5;124m\"\u001b[39m\u001b[38;5;124mUnrecognized keyword arguments \u001b[39m\u001b[38;5;124m\"\u001b[39m\n\u001b[1;32m    287\u001b[0m         \u001b[38;5;124mf\u001b[39m\u001b[38;5;124m\"\u001b[39m\u001b[38;5;124mpassed to \u001b[39m\u001b[38;5;132;01m{\u001b[39;00m\u001b[38;5;28mself\u001b[39m\u001b[38;5;241m.\u001b[39m\u001b[38;5;18m__class__\u001b[39m\u001b[38;5;241m.\u001b[39m\u001b[38;5;18m__name__\u001b[39m\u001b[38;5;132;01m}\u001b[39;00m\u001b[38;5;124m: \u001b[39m\u001b[38;5;132;01m{\u001b[39;00mkwargs\u001b[38;5;132;01m}\u001b[39;00m\u001b[38;5;124m\"\u001b[39m\n\u001b[1;32m    288\u001b[0m     )\n\u001b[1;32m    290\u001b[0m \u001b[38;5;28mself\u001b[39m\u001b[38;5;241m.\u001b[39m_path \u001b[38;5;241m=\u001b[39m \u001b[38;5;28;01mNone\u001b[39;00m  \u001b[38;5;66;03m# Will be determined in `build_wrapper`\u001b[39;00m\n\u001b[1;32m    291\u001b[0m \u001b[38;5;28mself\u001b[39m\u001b[38;5;241m.\u001b[39mbuilt \u001b[38;5;241m=\u001b[39m \u001b[38;5;28;01mFalse\u001b[39;00m\n",
            "\u001b[0;31mValueError\u001b[0m: Unrecognized keyword arguments passed to Embedding: {'batch_input_shape': [64, None]}"
          ]
        }
      ],
      "source": [
        "# Recurrent Neural Networks(RNN) 모델을 선언합니다.\n",
        "RNN_model = RNN(batch_size=batch_size)\n",
        "\n",
        "# 데이터 구조 파악을 위해서 예제로 임의의 하나의 배치 데이터 에측하고, 예측결과를 출력합니다.\n",
        "for input_example_batch, target_example_batch in dataset.take(1):\n",
        "  example_batch_predictions = RNN_model(input_example_batch)\n",
        "  print(example_batch_predictions.shape, \"# (batch_size, sequence_length, vocab_size)\")\n",
        "\n",
        "# 모델 정보를 출력합니다.\n",
        "RNN_model.summary()\n",
        "\n",
        "# checkpoint 데이터를 저장할 경로를 지정합니다.\n",
        "checkpoint_dir = './training_checkpoints'\n",
        "checkpoint_prefix = os.path.join(checkpoint_dir, \"ckpt_{epoch}\")\n",
        "\n",
        "for epoch in range(num_epochs):\n",
        "  start = time.time()\n",
        "\n",
        "  # 매 반복마다 hidden state를 초기화합니다. (최초의 hidden 값은 None입니다.)\n",
        "  hidden = RNN_model.reset_states()\n",
        "\n",
        "  for (batch_n, (input, target)) in enumerate(dataset):\n",
        "    loss = train_step(RNN_model, input, target)\n",
        "\n",
        "    if batch_n % 100 == 0:\n",
        "      template = 'Epoch {} Batch {} Loss {}'\n",
        "      print(template.format(epoch+1, batch_n, loss))\n",
        "\n",
        "  # 5회 반복마다 파라미터를 checkpoint로 저장합니다.\n",
        "  if (epoch + 1) % 5 == 0:\n",
        "    RNN_model.save_weights(checkpoint_prefix.format(epoch=epoch))\n",
        "\n",
        "  print ('Epoch {} Loss {:.4f}'.format(epoch+1, loss))\n",
        "  print ('Time taken for 1 epoch {} sec\\n'.format(time.time() - start))\n",
        "\n",
        "RNN_model.save_weights(checkpoint_prefix.format(epoch=epoch))\n",
        "print(\"트레이닝이 끝났습니다!\")"
      ]
    },
    {
      "cell_type": "markdown",
      "metadata": {
        "id": "Un7SxSy9r6j0"
      },
      "source": [
        "# 트레이닝이 끝난 모델을 이용한 샘플링"
      ]
    },
    {
      "cell_type": "code",
      "execution_count": null,
      "metadata": {
        "colab": {
          "base_uri": "https://localhost:8080/"
        },
        "id": "vL5aDi4Ioaz8",
        "outputId": "27a40bd5-c215-4900-c060-79ebe4925f77"
      },
      "outputs": [
        {
          "name": "stdout",
          "output_type": "stream",
          "text": [
            "Model: \"rnn_3\"\n",
            "_________________________________________________________________\n",
            "Layer (type)                 Output Shape              Param #   \n",
            "=================================================================\n",
            "embedding_3 (Embedding)      multiple                  25344     \n",
            "_________________________________________________________________\n",
            "lstm_3 (LSTM)                multiple                  5246976   \n",
            "_________________________________________________________________\n",
            "dense_3 (Dense)              multiple                  101475    \n",
            "=================================================================\n",
            "Total params: 5,373,795\n",
            "Trainable params: 5,373,795\n",
            "Non-trainable params: 0\n",
            "_________________________________________________________________\n",
            "샘플링을 시작합니다!\n",
            " ss           printf(\" .. MAX_LOCK_USASHIC_PRINT_TASK_TIMEKEEntry))\n",
            "\t\tif (diag) {\n",
            "\t\treset_free_percpu(skb);\n",
            "\t\tagain_ops->proc_cap_buffer = bytesn;\n",
            "\t}\n",
            "\n",
            "\t/*\n",
            "\t * Determine if CONFIG_SCHEDSTATS */\n",
            "\n",
            "\t/* Keep start */\n",
            "\tdr->flags &= ~SPONT_PAREN; i++) {\n",
            "\t\tkdb_printf(\"kdb enabled\" by this code trigger that may have been actually. If all\n",
            " * threads can possibly get_kprojid to insert a CPU with swsusp_bit)\n",
            "\t\t.binary);\n",
            "\t}\n",
            "\tkdb_register_flags(_m);\n",
            "\t__add_notify(dest);\n",
            "}\n",
            "\n",
            "static DEFINE_MUTEX(entry_count\" },\n",
            "\t{ CTL_INT,\tFS_REAL,\t\t\"pall\" },\n",
            "\t/* KERN_s reschedule if verified to etc. Watchdog namespace\n",
            "\t * data is not yet, disable installs we need multiple.  Note:\n",
            "\t * See prepare_creds() values in a sock when might be\n",
            "\t * been the timexw->goto out;\n",
            "\tr_start and characters. */\n",
            "static int show_rcubarrierdev(struct request_queue *q, struct rw_semaphore *seturn -EINVAL one reads */\n",
            "\tif (isdigit(TASKLET_STATE_COMING &&\n",
            "\t    state == KDB_CMD_CPU) {\n",
            "\t\tif (atomic_inc_retitid == CONFIG_MODULE_NO_BRL_0) {\n",
            "\t\tkdb_printf(\"%s: at syscall audit message or not all of system callbacks while shorted event\n",
            "\t\t * instruction within we check the\n",
            "\t\t\t * callback is the offset of arch pages were above.\n",
            "\t\t\t */\n",
            "\t\t\tif (nextarg > name)\n",
            "\t\t\t\tlen += kprobe_dit(nlst, userstromph_write,\n",
            "\t\t\t\t&mod->mkobE_SHIFT,\n",
            "\t\t\trdp->nocb_head);\n",
            "\tup_read(&mm->mmareeder.\n",
            " */\n",
            "static void blk_add_trace_rq_insert(struct ring_buffer_percpu *cpu_buffer = buffer->buffers;\n",
            "\tstruct ring_buffer_per_cpu *cpu_buffer;\n",
            "\tunsigned long pfn = res->flags;\n",
            "\n",
            "\t/*\n",
            "\t * Unbind are files. The safe if there is nothing towards the list, it has already\n",
            "\t * stop may canclude <linux/kmod.h>\n",
            "#include <linux/shareded.h>\n",
            "#include <linux/proc_fs.h>\n",
            "#include <linux/fs.h>\n",
            "#include <linux/pidfcer.h>\n",
            "#include <linux/binfmtx].mutex);\n",
            "}\n",
            "EXPORT_SYMBOL(add_taint);\n",
            "\n",
            "static void kallsyms_lookup(unsigned long ip, unsigned long *;\n",
            "\n",
            "\tstruct seq_file *mit;\n",
            "\tint ret;\n",
            "\n",
            "\tif (!file)\n",
            "\t\toptions = true;\n",
            "}\n",
            "/*\n",
            " * get_parent - Free a given event that,\n",
            " * second for all kthread_cpu - atomically allocate and modify\n",
            " * 8, 1916 -  success - crc = -1, ns\n",
            " * an option is placed, it out of them symbol and parsing entries with\n",
            " *\ttrace-issues.\n",
            " * @line: The image hierarchies on correctned by Nick Joss, ArjaN wereo);\n",
            "\n",
            "\tif (nr_late != header && flags || !pre_mask)\n",
            "\t\tgoto error;\n",
            "\n",
            "\tbt->nr_cpu_ids; i++) {\n",
            "\t\tstatic int run_read_unlock_sched_timer(struct ptrace_remove_work aterator to start checkevent_utr_task(struct rt_mutex *lock)\n",
            "{\n",
            "\treturn __alarm_base_files(old, callchain_must_stric, current);\n",
            "}\n",
            "\n",
            "user_resource(r, p);\n",
            "\t\telse\n",
            "\t\t\treset_iter(&bpage->elements);\n",
            "\t\tbcfs_validate_change(char *cmdline,\n",
            "\t\t\t\t     unsigned long address,\n",
            "\t\t\t\tunsigned long min_sze,\n",
            "\t\t\t        char\t*bufptr, is_read,\n",
            "\t\tstruct blk_irq_bw *blk_add_trace_rq, int permission== buf_addr)\n",
            "{\n",
            "\tstruct module_kobject *mk;\n",
            "\tint cpu;\n",
            "\n",
            "\tpr_devel(\"<%s\\n\", __enterisers - ring buffer's process or already confindings.h\"\n",
            " \"write: {\n",
            "\tLOGG_COUNT;\n",
            "\tpr_info(\"\\t%d %ld\", pid_q bin[i], \\\n",
            "\t\t\t\t     next_page, *respage), PAGE_SIZE))\n",
            "\t\t\tavail = strchr(sp, right);\n",
            "\t\tbit(val, &val), event) defined(CONFIG_MMU\n",
            "\t{\n",
            "\t\tstruct task_numa_free directory parsed;\n",
            "\t\t\tif (!s->ss->cfs_cape.start_lba\n",
            "\t\tredister_sysctl();\n",
            "\n",
            "\t\tswitch (c->type) {\n",
            "\t\t\tif (ressize(&right = frozen - low_fetch_irq)(SU_DESTREAD_ALLOW, &root_desc);\n",
            "\t\tif (rdtp->dynticks_idle_nestint\t= 0;\n",
            "\t\t\t\t\t\t\t\t    RLIME_NFP fmt;\n",
            "\tarm_timer(timr->it_i_uprobe_buffer, 1);\n",
            "\t\t\telta trace_add_unbid\n",
            "\t\tS_INTMASK,\t\t\"ip_opport\n",
            "\t\t * disarm entries:\n",
            "\t\t\t*/\n",
            "\t\t\tif (argc != 1\n",
            "\t    && oms[0]) {\n",
            "\t\t\tif (!te_cpu_base->cpumask.cbcpu)\n",
            "\t\t\t\tbreak;\n",
            "\t\t}\n",
            "\t\tacct_acquire(nval, &val);\n",
            "\t\treturn TRACE_TYPE_HASH_BITS;\n",
            "\t}\n",
            "\n",
            "\t/* Check synchronize installs, but we assume missing a trace probe */\n",
            "\tproc_watchdog();\n",
            "\tkthread to the new kernel process.\n",
            " *\n",
            " * @start: start address\n",
            " * @arg:\targv[3]\n",
            "\tmodule_usecsize 16:\n",
            "\t\tdisable_irq = 0;\n",
            "\t} while (read_seqcount_ble projes starts bA.\n",
            "\t */\n",
            "\tcopied = true;\n",
            "\telse if ((strctx->flags & KEXEC_FILE) &&\n",
            "\t      elemenable)\n",
            "\t\t\talarm->node = attr->addr;\n",
            "\t\tbreak;\n",
            "\tcase Audit_block from us\n"
          ]
        }
      ],
      "source": [
        "sampling_RNN_model = RNN(batch_size=1)\n",
        "sampling_RNN_model.load_weights(tf.train.latest_checkpoint(checkpoint_dir))\n",
        "sampling_RNN_model.build(tf.TensorShape([1, None]))\n",
        "sampling_RNN_model.summary()\n",
        "\n",
        "# 샘플링을 시작합니다.\n",
        "print(\"샘플링을 시작합니다!\")\n",
        "print(generate_text(sampling_RNN_model, start_string=u' '))"
      ]
    },
    {
      "cell_type": "code",
      "execution_count": null,
      "metadata": {
        "id": "WsimgaIDG0-r"
      },
      "outputs": [],
      "source": []
    }
  ],
  "metadata": {
    "accelerator": "GPU",
    "colab": {
      "provenance": []
    },
    "kernelspec": {
      "display_name": "Python 3",
      "name": "python3"
    },
    "language_info": {
      "codemirror_mode": {
        "name": "ipython",
        "version": 3
      },
      "file_extension": ".py",
      "mimetype": "text/x-python",
      "name": "python",
      "nbconvert_exporter": "python",
      "pygments_lexer": "ipython3",
      "version": "3.10.14"
    }
  },
  "nbformat": 4,
  "nbformat_minor": 0
}
